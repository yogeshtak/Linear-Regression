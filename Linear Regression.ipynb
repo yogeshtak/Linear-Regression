{
 "cells": [
  {
   "cell_type": "markdown",
   "source": [
    "## ***Machine Learning in Python***\n",
    "### Linear Regression\n",
    "\n",
    "Linear Regression is used as a predictive model that assumes a linear relationship between the dependent variable ( which is the variable we are trying to predict) and the independent variable (input)\n",
    "\n",
    "For example, you may use linear regression to predict the marks of a student (your dependent variable) based on the attendance, internal grades (input variable)\n",
    "\n",
    "Under the simple linear regression, only one independent/input variable is used to predict the dependent variable. ( Y=C+M*X)\n",
    "\n",
    "Y = Dependent Variable (output)\n",
    "C = Constant (y-intercept)\n",
    "M = Slope of the regression line ( the effect that X has on Y)\n",
    "X = independent variable (input)\n",
    "\n",
    "In reality, a relationship may exist between the dependent variable and multiple independent variables. For these types of models (assuming linearity), we can use Multiple Linear Regression (Y = C+M1*X1+M2*X2+...)\n"
   ],
   "metadata": {
    "collapsed": false
   }
  },
  {
   "cell_type": "code",
   "execution_count": 8,
   "outputs": [],
   "source": [
    "from pandas import DataFrame\n",
    "import statsmodels.api as sm\n"
   ],
   "metadata": {
    "collapsed": false,
    "pycharm": {
     "name": "#%% importing libraries\n",
     "is_executing": false
    }
   }
  },
  {
   "cell_type": "code",
   "execution_count": 9,
   "outputs": [],
   "source": [
    "Stock_Market = {'Year': [2017,2017,2017,2017,2017,2017,2017,2017,2017,2017,2017,2017,2016,2016,2016,2016,2016,2016,2016,2016,2016,2016,2016,2016],\n",
    "                'Month': [12, 11,10,9,8,7,6,5,4,3,2,1,12,11,10,9,8,7,6,5,4,3,2,1],\n",
    "                'Interest_Rate': [2.75,2.5,2.5,2.5,2.5,2.5,2.5,2.25,2.25,2.25,2,2,2,1.75,1.75,1.75,1.75,1.75,1.75,1.75,1.75,1.75,1.75,1.75],\n",
    "                'Unemployment_Rate': [5.3,5.3,5.3,5.3,5.4,5.6,5.5,5.5,5.5,5.6,5.7,5.9,6,5.9,5.8,6.1,6.2,6.1,6.1,6.1,5.9,6.2,6.2,6.1],\n",
    "                'Stock_Index_Price': [1464,1394,1357,1293,1256,1254,1234,1195,1159,1167,1130,1075,1047,965,943,958,971,949,884,866,876,822,704,719]        \n",
    "                }\n",
    "\n",
    "\n"
   ],
   "metadata": {
    "collapsed": false,
    "pycharm": {
     "name": "#%%\n",
     "is_executing": false
    }
   }
  },
  {
   "cell_type": "code",
   "execution_count": 13,
   "outputs": [
    {
     "data": {
      "text/plain": "    Year  Month  Interest_Rate  Unemployment_Rate  Stock_Index_Price\n0   2017     12           2.75                5.3               1464\n1   2017     11           2.50                5.3               1394\n2   2017     10           2.50                5.3               1357\n3   2017      9           2.50                5.3               1293\n4   2017      8           2.50                5.4               1256\n5   2017      7           2.50                5.6               1254\n6   2017      6           2.50                5.5               1234\n7   2017      5           2.25                5.5               1195\n8   2017      4           2.25                5.5               1159\n9   2017      3           2.25                5.6               1167\n10  2017      2           2.00                5.7               1130\n11  2017      1           2.00                5.9               1075\n12  2016     12           2.00                6.0               1047\n13  2016     11           1.75                5.9                965\n14  2016     10           1.75                5.8                943\n15  2016      9           1.75                6.1                958\n16  2016      8           1.75                6.2                971\n17  2016      7           1.75                6.1                949\n18  2016      6           1.75                6.1                884\n19  2016      5           1.75                6.1                866\n20  2016      4           1.75                5.9                876\n21  2016      3           1.75                6.2                822\n22  2016      2           1.75                6.2                704\n23  2016      1           1.75                6.1                719",
      "text/html": "<div>\n<style scoped>\n    .dataframe tbody tr th:only-of-type {\n        vertical-align: middle;\n    }\n\n    .dataframe tbody tr th {\n        vertical-align: top;\n    }\n\n    .dataframe thead th {\n        text-align: right;\n    }\n</style>\n<table border=\"1\" class=\"dataframe\">\n  <thead>\n    <tr style=\"text-align: right;\">\n      <th></th>\n      <th>Year</th>\n      <th>Month</th>\n      <th>Interest_Rate</th>\n      <th>Unemployment_Rate</th>\n      <th>Stock_Index_Price</th>\n    </tr>\n  </thead>\n  <tbody>\n    <tr>\n      <td>0</td>\n      <td>2017</td>\n      <td>12</td>\n      <td>2.75</td>\n      <td>5.3</td>\n      <td>1464</td>\n    </tr>\n    <tr>\n      <td>1</td>\n      <td>2017</td>\n      <td>11</td>\n      <td>2.50</td>\n      <td>5.3</td>\n      <td>1394</td>\n    </tr>\n    <tr>\n      <td>2</td>\n      <td>2017</td>\n      <td>10</td>\n      <td>2.50</td>\n      <td>5.3</td>\n      <td>1357</td>\n    </tr>\n    <tr>\n      <td>3</td>\n      <td>2017</td>\n      <td>9</td>\n      <td>2.50</td>\n      <td>5.3</td>\n      <td>1293</td>\n    </tr>\n    <tr>\n      <td>4</td>\n      <td>2017</td>\n      <td>8</td>\n      <td>2.50</td>\n      <td>5.4</td>\n      <td>1256</td>\n    </tr>\n    <tr>\n      <td>5</td>\n      <td>2017</td>\n      <td>7</td>\n      <td>2.50</td>\n      <td>5.6</td>\n      <td>1254</td>\n    </tr>\n    <tr>\n      <td>6</td>\n      <td>2017</td>\n      <td>6</td>\n      <td>2.50</td>\n      <td>5.5</td>\n      <td>1234</td>\n    </tr>\n    <tr>\n      <td>7</td>\n      <td>2017</td>\n      <td>5</td>\n      <td>2.25</td>\n      <td>5.5</td>\n      <td>1195</td>\n    </tr>\n    <tr>\n      <td>8</td>\n      <td>2017</td>\n      <td>4</td>\n      <td>2.25</td>\n      <td>5.5</td>\n      <td>1159</td>\n    </tr>\n    <tr>\n      <td>9</td>\n      <td>2017</td>\n      <td>3</td>\n      <td>2.25</td>\n      <td>5.6</td>\n      <td>1167</td>\n    </tr>\n    <tr>\n      <td>10</td>\n      <td>2017</td>\n      <td>2</td>\n      <td>2.00</td>\n      <td>5.7</td>\n      <td>1130</td>\n    </tr>\n    <tr>\n      <td>11</td>\n      <td>2017</td>\n      <td>1</td>\n      <td>2.00</td>\n      <td>5.9</td>\n      <td>1075</td>\n    </tr>\n    <tr>\n      <td>12</td>\n      <td>2016</td>\n      <td>12</td>\n      <td>2.00</td>\n      <td>6.0</td>\n      <td>1047</td>\n    </tr>\n    <tr>\n      <td>13</td>\n      <td>2016</td>\n      <td>11</td>\n      <td>1.75</td>\n      <td>5.9</td>\n      <td>965</td>\n    </tr>\n    <tr>\n      <td>14</td>\n      <td>2016</td>\n      <td>10</td>\n      <td>1.75</td>\n      <td>5.8</td>\n      <td>943</td>\n    </tr>\n    <tr>\n      <td>15</td>\n      <td>2016</td>\n      <td>9</td>\n      <td>1.75</td>\n      <td>6.1</td>\n      <td>958</td>\n    </tr>\n    <tr>\n      <td>16</td>\n      <td>2016</td>\n      <td>8</td>\n      <td>1.75</td>\n      <td>6.2</td>\n      <td>971</td>\n    </tr>\n    <tr>\n      <td>17</td>\n      <td>2016</td>\n      <td>7</td>\n      <td>1.75</td>\n      <td>6.1</td>\n      <td>949</td>\n    </tr>\n    <tr>\n      <td>18</td>\n      <td>2016</td>\n      <td>6</td>\n      <td>1.75</td>\n      <td>6.1</td>\n      <td>884</td>\n    </tr>\n    <tr>\n      <td>19</td>\n      <td>2016</td>\n      <td>5</td>\n      <td>1.75</td>\n      <td>6.1</td>\n      <td>866</td>\n    </tr>\n    <tr>\n      <td>20</td>\n      <td>2016</td>\n      <td>4</td>\n      <td>1.75</td>\n      <td>5.9</td>\n      <td>876</td>\n    </tr>\n    <tr>\n      <td>21</td>\n      <td>2016</td>\n      <td>3</td>\n      <td>1.75</td>\n      <td>6.2</td>\n      <td>822</td>\n    </tr>\n    <tr>\n      <td>22</td>\n      <td>2016</td>\n      <td>2</td>\n      <td>1.75</td>\n      <td>6.2</td>\n      <td>704</td>\n    </tr>\n    <tr>\n      <td>23</td>\n      <td>2016</td>\n      <td>1</td>\n      <td>1.75</td>\n      <td>6.1</td>\n      <td>719</td>\n    </tr>\n  </tbody>\n</table>\n</div>"
     },
     "metadata": {},
     "output_type": "execute_result",
     "execution_count": 13
    }
   ],
   "source": [
    "df = DataFrame(Stock_Market,columns=['Year','Month','Interest_Rate','Unemployment_Rate','Stock_Index_Price'])\n",
    "df"
   ],
   "metadata": {
    "collapsed": false,
    "pycharm": {
     "name": "#%%\n",
     "is_executing": false
    }
   }
  },
  {
   "cell_type": "code",
   "execution_count": 14,
   "outputs": [],
   "source": [
    "X = df[['Interest_Rate','Unemployment_Rate']]\n",
    "#above here we have two variables so multiple linear regression, if you have only one variable, use x = df['Interest_Rate], or if you have more variables, you can add them here\n",
    "Y = df['Stock_Index_Price']\n",
    "\n"
   ],
   "metadata": {
    "collapsed": false,
    "pycharm": {
     "name": "#%%\n",
     "is_executing": false
    }
   }
  },
  {
   "cell_type": "code",
   "execution_count": 15,
   "outputs": [
    {
     "name": "stderr",
     "text": [
      "/Users/yogesh/PycharmProjects/untitled3/venv/lib/python3.7/site-packages/numpy/core/fromnumeric.py:2495: FutureWarning: Method .ptp is deprecated and will be removed in a future version. Use numpy.ptp instead.\n  return ptp(axis=axis, out=out, **kwargs)\n"
     ],
     "output_type": "stream"
    }
   ],
   "source": [
    "X = sm.add_constant(X) #adding a constant"
   ],
   "metadata": {
    "collapsed": false,
    "pycharm": {
     "name": "#%%\n",
     "is_executing": false
    }
   }
  },
  {
   "cell_type": "code",
   "execution_count": 16,
   "outputs": [
    {
     "name": "stdout",
     "text": [
      "                            OLS Regression Results                            \n==============================================================================\nDep. Variable:      Stock_Index_Price   R-squared:                       0.898\nModel:                            OLS   Adj. R-squared:                  0.888\nMethod:                 Least Squares   F-statistic:                     92.07\nDate:                Sat, 12 Oct 2019   Prob (F-statistic):           4.04e-11\nTime:                        15:46:51   Log-Likelihood:                -134.61\nNo. Observations:                  24   AIC:                             275.2\nDf Residuals:                      21   BIC:                             278.8\nDf Model:                           2                                         \nCovariance Type:            nonrobust                                         \n=====================================================================================\n                        coef    std err          t      P>|t|      [0.025      0.975]\n-------------------------------------------------------------------------------------\nconst              1798.4040    899.248      2.000      0.059     -71.685    3668.493\nInterest_Rate       345.5401    111.367      3.103      0.005     113.940     577.140\nUnemployment_Rate  -250.1466    117.950     -2.121      0.046    -495.437      -4.856\n==============================================================================\nOmnibus:                        2.691   Durbin-Watson:                   0.530\nProb(Omnibus):                  0.260   Jarque-Bera (JB):                1.551\nSkew:                          -0.612   Prob(JB):                        0.461\nKurtosis:                       3.226   Cond. No.                         394.\n==============================================================================\n\nWarnings:\n[1] Standard Errors assume that the covariance matrix of the errors is correctly specified.\n"
     ],
     "output_type": "stream"
    }
   ],
   "source": [
    "model = sm.OLS(Y,X).fit()\n",
    "predictions = model.predict(X)\n",
    "\n",
    "print_model = model.summary()\n",
    "print(print_model)\n",
    "\n"
   ],
   "metadata": {
    "collapsed": false,
    "pycharm": {
     "name": "#%%\n",
     "is_executing": false
    }
   }
  },
  {
   "cell_type": "code",
   "execution_count": null,
   "outputs": [],
   "source": [],
   "metadata": {
    "collapsed": false,
    "pycharm": {
     "name": "#%%\n"
    }
   }
  },
  {
   "cell_type": "markdown",
   "source": [
    "#### Interpreting the Regression Results\n",
    "\n",
    "I highlighted several important components within the results:\n",
    "\n",
    "#### Adjusted. R-squared \n",
    "reflects the fit of the model. R-squared values range from 0 to 1, where a higher value generally indicates a better fit, assuming certain conditions are met.\n",
    "##### const coefficient \n",
    "is your Y-intercept. It means that if both the Interest_Rate and Unemployment_Rate coefficients are zero, then the expected output (i.e., the Y) would be equal to the const coefficient.\n",
    "#### Interest_Rate coefficient \n",
    "represents the change in the output Y due to a change of one unit in the interest rate (everything else held constant)\n",
    "##### Unemployment_Rate coefficient \n",
    "represents the change in the output Y due to a change of one unit in the unemployment rate (everything else held constant)\n",
    "#### std err \n",
    "reflects the level of accuracy of the coefficients. The lower it is, the higher is the level of accuracy\n",
    "##### P >|t| \n",
    "is your p-value. A p-value of less than 0.05 is considered to be statistically significant\n",
    "##### Confidence Interval \n",
    "represents the range in which our coefficients are likely to fall (with a likelihood of 95%)\n",
    "\n"
   ],
   "metadata": {
    "collapsed": false
   }
  }
 ],
 "metadata": {
  "kernelspec": {
   "display_name": "Python 3",
   "language": "python",
   "name": "python3"
  },
  "language_info": {
   "codemirror_mode": {
    "name": "ipython",
    "version": 2
   },
   "file_extension": ".py",
   "mimetype": "text/x-python",
   "name": "python",
   "nbconvert_exporter": "python",
   "pygments_lexer": "ipython2",
   "version": "2.7.6"
  },
  "pycharm": {
   "stem_cell": {
    "cell_type": "raw",
    "source": [],
    "metadata": {
     "collapsed": false
    }
   }
  }
 },
 "nbformat": 4,
 "nbformat_minor": 0
}